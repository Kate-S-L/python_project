{
 "cells": [
  {
   "cell_type": "markdown",
   "id": "collectible-effectiveness",
   "metadata": {},
   "source": [
    "In this Notebook:\n",
    "(Part 2 of the Task)\n",
    "1. Getting prepared with libraries and importing newly combined data\n",
    "2. Re-create charts from the exercise\n",
    "2b. create a line chart using a sample of the dataframe\n",
    "3. A histogram of the 'hour_order_of_the_day' column to describe sales findings\n",
    "4. A bar chart that shows the distribution of orders among customers in terms of loyalty\n",
    "5. A line chart that checks differences in expenditure based of the hour of the day\n",
    "6. Exploratory analysis of customer demographics using a line chart\n",
    "7. Exploring the relationship between age and spending power"
   ]
  },
  {
   "cell_type": "markdown",
   "id": "southeast-delivery",
   "metadata": {},
   "source": [
    "1. Getting prepared"
   ]
  },
  {
   "cell_type": "code",
   "execution_count": 1,
   "id": "driven-ivory",
   "metadata": {},
   "outputs": [],
   "source": [
    "#Importing libraries\n",
    "import pandas as pd\n",
    "import numpy as np\n",
    "import os\n",
    "import matplotlib.pyplot as plt\n",
    "import seaborn as sns\n",
    "import scipy"
   ]
  },
  {
   "cell_type": "code",
   "execution_count": 2,
   "id": "british-conference",
   "metadata": {},
   "outputs": [],
   "source": [
    "#creating path to Instacart folder\n",
    "path = r\"/Users/katerinapilota/Desktop/Desktop - Pilot's Mac mini/dataimmersion/python/ 02:03:21 Instacart Basket Analysis\""
   ]
  },
  {
   "cell_type": "code",
   "execution_count": 26,
   "id": "removed-joyce",
   "metadata": {},
   "outputs": [],
   "source": [
    "#importing data\n",
    "df_final = pd.read_pickle(os.path.join(path, '02 Data', 'Prepared Data', 'final_combined_4'))"
   ]
  },
  {
   "cell_type": "code",
   "execution_count": 27,
   "id": "enabling-walter",
   "metadata": {},
   "outputs": [
    {
     "data": {
      "text/html": [
       "<div>\n",
       "<style scoped>\n",
       "    .dataframe tbody tr th:only-of-type {\n",
       "        vertical-align: middle;\n",
       "    }\n",
       "\n",
       "    .dataframe tbody tr th {\n",
       "        vertical-align: top;\n",
       "    }\n",
       "\n",
       "    .dataframe thead th {\n",
       "        text-align: right;\n",
       "    }\n",
       "</style>\n",
       "<table border=\"1\" class=\"dataframe\">\n",
       "  <thead>\n",
       "    <tr style=\"text-align: right;\">\n",
       "      <th></th>\n",
       "      <th>Unnamed: 0_x</th>\n",
       "      <th>Unnamed: 0.1</th>\n",
       "      <th>order_id</th>\n",
       "      <th>user_id</th>\n",
       "      <th>order_number</th>\n",
       "      <th>orders_days_of_the_week</th>\n",
       "      <th>time_of_order_24hr_time</th>\n",
       "      <th>days_since_prior_order</th>\n",
       "      <th>product_id</th>\n",
       "      <th>add_to_cart_order</th>\n",
       "      <th>...</th>\n",
       "      <th>First_Name</th>\n",
       "      <th>Last_Name</th>\n",
       "      <th>Gender</th>\n",
       "      <th>STATE</th>\n",
       "      <th>Age</th>\n",
       "      <th>date_joined</th>\n",
       "      <th>n_dependants</th>\n",
       "      <th>fam_status</th>\n",
       "      <th>income</th>\n",
       "      <th>_merge</th>\n",
       "    </tr>\n",
       "  </thead>\n",
       "  <tbody>\n",
       "    <tr>\n",
       "      <th>0</th>\n",
       "      <td>0</td>\n",
       "      <td>0</td>\n",
       "      <td>2539329</td>\n",
       "      <td>1</td>\n",
       "      <td>1</td>\n",
       "      <td>2</td>\n",
       "      <td>8</td>\n",
       "      <td>0.0</td>\n",
       "      <td>196</td>\n",
       "      <td>1</td>\n",
       "      <td>...</td>\n",
       "      <td>Linda</td>\n",
       "      <td>Nguyen</td>\n",
       "      <td>Female</td>\n",
       "      <td>Alabama</td>\n",
       "      <td>31</td>\n",
       "      <td>2/17/2019</td>\n",
       "      <td>3</td>\n",
       "      <td>married</td>\n",
       "      <td>40423</td>\n",
       "      <td>both</td>\n",
       "    </tr>\n",
       "    <tr>\n",
       "      <th>1</th>\n",
       "      <td>1</td>\n",
       "      <td>1</td>\n",
       "      <td>2398795</td>\n",
       "      <td>1</td>\n",
       "      <td>2</td>\n",
       "      <td>3</td>\n",
       "      <td>7</td>\n",
       "      <td>15.0</td>\n",
       "      <td>196</td>\n",
       "      <td>1</td>\n",
       "      <td>...</td>\n",
       "      <td>Linda</td>\n",
       "      <td>Nguyen</td>\n",
       "      <td>Female</td>\n",
       "      <td>Alabama</td>\n",
       "      <td>31</td>\n",
       "      <td>2/17/2019</td>\n",
       "      <td>3</td>\n",
       "      <td>married</td>\n",
       "      <td>40423</td>\n",
       "      <td>both</td>\n",
       "    </tr>\n",
       "    <tr>\n",
       "      <th>2</th>\n",
       "      <td>2</td>\n",
       "      <td>2</td>\n",
       "      <td>473747</td>\n",
       "      <td>1</td>\n",
       "      <td>3</td>\n",
       "      <td>3</td>\n",
       "      <td>12</td>\n",
       "      <td>21.0</td>\n",
       "      <td>196</td>\n",
       "      <td>1</td>\n",
       "      <td>...</td>\n",
       "      <td>Linda</td>\n",
       "      <td>Nguyen</td>\n",
       "      <td>Female</td>\n",
       "      <td>Alabama</td>\n",
       "      <td>31</td>\n",
       "      <td>2/17/2019</td>\n",
       "      <td>3</td>\n",
       "      <td>married</td>\n",
       "      <td>40423</td>\n",
       "      <td>both</td>\n",
       "    </tr>\n",
       "    <tr>\n",
       "      <th>3</th>\n",
       "      <td>3</td>\n",
       "      <td>3</td>\n",
       "      <td>2254736</td>\n",
       "      <td>1</td>\n",
       "      <td>4</td>\n",
       "      <td>4</td>\n",
       "      <td>7</td>\n",
       "      <td>29.0</td>\n",
       "      <td>196</td>\n",
       "      <td>1</td>\n",
       "      <td>...</td>\n",
       "      <td>Linda</td>\n",
       "      <td>Nguyen</td>\n",
       "      <td>Female</td>\n",
       "      <td>Alabama</td>\n",
       "      <td>31</td>\n",
       "      <td>2/17/2019</td>\n",
       "      <td>3</td>\n",
       "      <td>married</td>\n",
       "      <td>40423</td>\n",
       "      <td>both</td>\n",
       "    </tr>\n",
       "    <tr>\n",
       "      <th>4</th>\n",
       "      <td>4</td>\n",
       "      <td>4</td>\n",
       "      <td>431534</td>\n",
       "      <td>1</td>\n",
       "      <td>5</td>\n",
       "      <td>4</td>\n",
       "      <td>15</td>\n",
       "      <td>28.0</td>\n",
       "      <td>196</td>\n",
       "      <td>1</td>\n",
       "      <td>...</td>\n",
       "      <td>Linda</td>\n",
       "      <td>Nguyen</td>\n",
       "      <td>Female</td>\n",
       "      <td>Alabama</td>\n",
       "      <td>31</td>\n",
       "      <td>2/17/2019</td>\n",
       "      <td>3</td>\n",
       "      <td>married</td>\n",
       "      <td>40423</td>\n",
       "      <td>both</td>\n",
       "    </tr>\n",
       "  </tbody>\n",
       "</table>\n",
       "<p>5 rows × 37 columns</p>\n",
       "</div>"
      ],
      "text/plain": [
       "   Unnamed: 0_x  Unnamed: 0.1  order_id  user_id  order_number  \\\n",
       "0             0             0   2539329        1             1   \n",
       "1             1             1   2398795        1             2   \n",
       "2             2             2    473747        1             3   \n",
       "3             3             3   2254736        1             4   \n",
       "4             4             4    431534        1             5   \n",
       "\n",
       "   orders_days_of_the_week  time_of_order_24hr_time  days_since_prior_order  \\\n",
       "0                        2                        8                     0.0   \n",
       "1                        3                        7                    15.0   \n",
       "2                        3                       12                    21.0   \n",
       "3                        4                        7                    29.0   \n",
       "4                        4                       15                    28.0   \n",
       "\n",
       "   product_id  add_to_cart_order  ...  First_Name  Last_Name  Gender    STATE  \\\n",
       "0         196                  1  ...       Linda     Nguyen  Female  Alabama   \n",
       "1         196                  1  ...       Linda     Nguyen  Female  Alabama   \n",
       "2         196                  1  ...       Linda     Nguyen  Female  Alabama   \n",
       "3         196                  1  ...       Linda     Nguyen  Female  Alabama   \n",
       "4         196                  1  ...       Linda     Nguyen  Female  Alabama   \n",
       "\n",
       "   Age  date_joined n_dependants fam_status income _merge  \n",
       "0   31    2/17/2019            3    married  40423   both  \n",
       "1   31    2/17/2019            3    married  40423   both  \n",
       "2   31    2/17/2019            3    married  40423   both  \n",
       "3   31    2/17/2019            3    married  40423   both  \n",
       "4   31    2/17/2019            3    married  40423   both  \n",
       "\n",
       "[5 rows x 37 columns]"
      ]
     },
     "execution_count": 27,
     "metadata": {},
     "output_type": "execute_result"
    }
   ],
   "source": [
    "df_final.head()"
   ]
  },
  {
   "cell_type": "code",
   "execution_count": 33,
   "id": "isolated-buddy",
   "metadata": {},
   "outputs": [
    {
     "data": {
      "text/plain": [
       "Index(['Unnamed: 0_x', 'Unnamed: 0.1', 'order_id', 'user_id', 'order_number',\n",
       "       'orders_days_of_the_week', 'time_of_order_24hr_time',\n",
       "       'days_since_prior_order', 'product_id', 'add_to_cart_order',\n",
       "       'reordered', 'Unnamed: 0_y', 'product_name', 'aisle_id',\n",
       "       'department_id', 'prices', 'True', 'price_range_loc', 'Busiest day',\n",
       "       'Two busiest days', 'busiest_period_day', 'max_order', 'loyalty_flag',\n",
       "       'mean_spend', 'spend_flag', 'median_ordering', 'freq_flag',\n",
       "       'First_Name', 'Last_Name', 'Gender', 'STATE', 'Age', 'date_joined',\n",
       "       'n_dependants', 'fam_status', 'income', '_merge'],\n",
       "      dtype='object')"
      ]
     },
     "execution_count": 33,
     "metadata": {},
     "output_type": "execute_result"
    }
   ],
   "source": [
    "df_final.columns"
   ]
  },
  {
   "cell_type": "code",
   "execution_count": 4,
   "id": "colored-seminar",
   "metadata": {},
   "outputs": [
    {
     "data": {
      "image/png": "[encoded data removed]",
      "text/plain": [
       "<Figure size 432x288 with 1 Axes>"
      ]
     },
     "metadata": {
      "needs_background": "light"
     },
     "output_type": "display_data"
    }
   ],
   "source": [
    "#making a bar chart from 'orders_days_of_the_week'\n",
    "bar = df_final['orders_days_of_the_week'].value_counts().plot.bar(color =['purple', 'red', 'pink', 'orange', 'yellow', 'green', 'blue'])"
   ]
  },
  {
   "cell_type": "code",
   "execution_count": 5,
   "id": "adapted-therapist",
   "metadata": {},
   "outputs": [],
   "source": [
    "#save teh bar chart as a .png\n",
    "bar.figure.savefig(os.path.join(path, '04 Analysis','Visualisations', 'bar_orders_dow.png'))"
   ]
  },
  {
   "cell_type": "code",
   "execution_count": 6,
   "id": "immune-objective",
   "metadata": {},
   "outputs": [
    {
     "data": {
      "text/plain": [
       "<AxesSubplot:ylabel='Frequency'>"
      ]
     },
     "execution_count": 6,
     "metadata": {},
     "output_type": "execute_result"
    },
    {
     "data": {
      "image/png": "[encoded data removed]",
      "text/plain": [
       "<Figure size 432x288 with 1 Axes>"
      ]
     },
     "metadata": {
      "needs_background": "light"
     },
     "output_type": "display_data"
    }
   ],
   "source": [
    "#making histogram\n",
    "df_final['prices'].plot.hist(bins = 25)"
   ]
  },
  {
   "cell_type": "code",
   "execution_count": 7,
   "id": "friendly-explanation",
   "metadata": {},
   "outputs": [
    {
     "data": {
      "text/plain": [
       "<AxesSubplot:xlabel='prices', ylabel='prices'>"
      ]
     },
     "execution_count": 7,
     "metadata": {},
     "output_type": "execute_result"
    },
    {
     "data": {
      "image/png": "[encoded data removed]",
      "text/plain": [
       "<Figure size 432x288 with 1 Axes>"
      ]
     },
     "metadata": {
      "needs_background": "light"
     },
     "output_type": "display_data"
    }
   ],
   "source": [
    "#creating a scatterplot\n",
    "sns.scatterplot(x = 'prices', y = 'prices',data = df_final)"
   ]
  },
  {
   "cell_type": "code",
   "execution_count": 8,
   "id": "other-accessory",
   "metadata": {},
   "outputs": [
    {
     "data": {
      "text/html": [
       "<div>\n",
       "<style scoped>\n",
       "    .dataframe tbody tr th:only-of-type {\n",
       "        vertical-align: middle;\n",
       "    }\n",
       "\n",
       "    .dataframe tbody tr th {\n",
       "        vertical-align: top;\n",
       "    }\n",
       "\n",
       "    .dataframe thead th {\n",
       "        text-align: right;\n",
       "    }\n",
       "</style>\n",
       "<table border=\"1\" class=\"dataframe\">\n",
       "  <thead>\n",
       "    <tr style=\"text-align: right;\">\n",
       "      <th></th>\n",
       "      <th>Unnamed: 0_x</th>\n",
       "      <th>Unnamed: 0.1</th>\n",
       "      <th>order_id</th>\n",
       "      <th>user_id</th>\n",
       "      <th>order_number</th>\n",
       "      <th>orders_days_of_the_week</th>\n",
       "      <th>time_of_order_24hr_time</th>\n",
       "      <th>days_since_prior_order</th>\n",
       "      <th>product_id</th>\n",
       "      <th>add_to_cart_order</th>\n",
       "      <th>...</th>\n",
       "      <th>First_Name</th>\n",
       "      <th>Last_Name</th>\n",
       "      <th>Gender</th>\n",
       "      <th>STATE</th>\n",
       "      <th>Age</th>\n",
       "      <th>date_joined</th>\n",
       "      <th>n_dependants</th>\n",
       "      <th>fam_status</th>\n",
       "      <th>income</th>\n",
       "      <th>_merge</th>\n",
       "    </tr>\n",
       "  </thead>\n",
       "  <tbody>\n",
       "    <tr>\n",
       "      <th>7805</th>\n",
       "      <td>24261</td>\n",
       "      <td>24261</td>\n",
       "      <td>1435153</td>\n",
       "      <td>1519</td>\n",
       "      <td>26</td>\n",
       "      <td>2</td>\n",
       "      <td>11</td>\n",
       "      <td>6.0</td>\n",
       "      <td>21553</td>\n",
       "      <td>15</td>\n",
       "      <td>...</td>\n",
       "      <td>Craig</td>\n",
       "      <td>Clark</td>\n",
       "      <td>Male</td>\n",
       "      <td>Rhode Island</td>\n",
       "      <td>68</td>\n",
       "      <td>3/4/2020</td>\n",
       "      <td>0</td>\n",
       "      <td>divorced/widowed</td>\n",
       "      <td>177864</td>\n",
       "      <td>both</td>\n",
       "    </tr>\n",
       "    <tr>\n",
       "      <th>7806</th>\n",
       "      <td>24267</td>\n",
       "      <td>24267</td>\n",
       "      <td>1066435</td>\n",
       "      <td>1519</td>\n",
       "      <td>32</td>\n",
       "      <td>3</td>\n",
       "      <td>10</td>\n",
       "      <td>5.0</td>\n",
       "      <td>21553</td>\n",
       "      <td>28</td>\n",
       "      <td>...</td>\n",
       "      <td>Craig</td>\n",
       "      <td>Clark</td>\n",
       "      <td>Male</td>\n",
       "      <td>Rhode Island</td>\n",
       "      <td>68</td>\n",
       "      <td>3/4/2020</td>\n",
       "      <td>0</td>\n",
       "      <td>divorced/widowed</td>\n",
       "      <td>177864</td>\n",
       "      <td>both</td>\n",
       "    </tr>\n",
       "    <tr>\n",
       "      <th>15143</th>\n",
       "      <td>39073</td>\n",
       "      <td>39073</td>\n",
       "      <td>1697208</td>\n",
       "      <td>2409</td>\n",
       "      <td>33</td>\n",
       "      <td>1</td>\n",
       "      <td>19</td>\n",
       "      <td>5.0</td>\n",
       "      <td>21553</td>\n",
       "      <td>1</td>\n",
       "      <td>...</td>\n",
       "      <td>Nicole</td>\n",
       "      <td>Odonnell</td>\n",
       "      <td>Female</td>\n",
       "      <td>Hawaii</td>\n",
       "      <td>55</td>\n",
       "      <td>11/11/2018</td>\n",
       "      <td>2</td>\n",
       "      <td>married</td>\n",
       "      <td>230074</td>\n",
       "      <td>both</td>\n",
       "    </tr>\n",
       "    <tr>\n",
       "      <th>20264</th>\n",
       "      <td>57126</td>\n",
       "      <td>57126</td>\n",
       "      <td>965345</td>\n",
       "      <td>3531</td>\n",
       "      <td>27</td>\n",
       "      <td>2</td>\n",
       "      <td>19</td>\n",
       "      <td>8.0</td>\n",
       "      <td>33664</td>\n",
       "      <td>2</td>\n",
       "      <td>...</td>\n",
       "      <td>Alice</td>\n",
       "      <td>Compton</td>\n",
       "      <td>Female</td>\n",
       "      <td>Hawaii</td>\n",
       "      <td>80</td>\n",
       "      <td>10/6/2019</td>\n",
       "      <td>2</td>\n",
       "      <td>married</td>\n",
       "      <td>233776</td>\n",
       "      <td>both</td>\n",
       "    </tr>\n",
       "    <tr>\n",
       "      <th>20497</th>\n",
       "      <td>61481</td>\n",
       "      <td>61481</td>\n",
       "      <td>2943740</td>\n",
       "      <td>3793</td>\n",
       "      <td>1</td>\n",
       "      <td>2</td>\n",
       "      <td>9</td>\n",
       "      <td>0.0</td>\n",
       "      <td>21553</td>\n",
       "      <td>3</td>\n",
       "      <td>...</td>\n",
       "      <td>Jerry</td>\n",
       "      <td>Allen</td>\n",
       "      <td>Male</td>\n",
       "      <td>Louisiana</td>\n",
       "      <td>59</td>\n",
       "      <td>8/23/2019</td>\n",
       "      <td>3</td>\n",
       "      <td>married</td>\n",
       "      <td>182933</td>\n",
       "      <td>both</td>\n",
       "    </tr>\n",
       "    <tr>\n",
       "      <th>...</th>\n",
       "      <td>...</td>\n",
       "      <td>...</td>\n",
       "      <td>...</td>\n",
       "      <td>...</td>\n",
       "      <td>...</td>\n",
       "      <td>...</td>\n",
       "      <td>...</td>\n",
       "      <td>...</td>\n",
       "      <td>...</td>\n",
       "      <td>...</td>\n",
       "      <td>...</td>\n",
       "      <td>...</td>\n",
       "      <td>...</td>\n",
       "      <td>...</td>\n",
       "      <td>...</td>\n",
       "      <td>...</td>\n",
       "      <td>...</td>\n",
       "      <td>...</td>\n",
       "      <td>...</td>\n",
       "      <td>...</td>\n",
       "      <td>...</td>\n",
       "    </tr>\n",
       "    <tr>\n",
       "      <th>32303799</th>\n",
       "      <td>854612</td>\n",
       "      <td>854612</td>\n",
       "      <td>3265389</td>\n",
       "      <td>51346</td>\n",
       "      <td>4</td>\n",
       "      <td>1</td>\n",
       "      <td>17</td>\n",
       "      <td>13.0</td>\n",
       "      <td>33664</td>\n",
       "      <td>2</td>\n",
       "      <td>...</td>\n",
       "      <td>NaN</td>\n",
       "      <td>Gould</td>\n",
       "      <td>Male</td>\n",
       "      <td>Rhode Island</td>\n",
       "      <td>58</td>\n",
       "      <td>1/25/2019</td>\n",
       "      <td>1</td>\n",
       "      <td>married</td>\n",
       "      <td>207497</td>\n",
       "      <td>both</td>\n",
       "    </tr>\n",
       "    <tr>\n",
       "      <th>32307882</th>\n",
       "      <td>2186800</td>\n",
       "      <td>2186800</td>\n",
       "      <td>1179092</td>\n",
       "      <td>131671</td>\n",
       "      <td>12</td>\n",
       "      <td>4</td>\n",
       "      <td>9</td>\n",
       "      <td>15.0</td>\n",
       "      <td>33664</td>\n",
       "      <td>1</td>\n",
       "      <td>...</td>\n",
       "      <td>Diana</td>\n",
       "      <td>Hansen</td>\n",
       "      <td>Female</td>\n",
       "      <td>Rhode Island</td>\n",
       "      <td>35</td>\n",
       "      <td>8/4/2018</td>\n",
       "      <td>0</td>\n",
       "      <td>single</td>\n",
       "      <td>86490</td>\n",
       "      <td>both</td>\n",
       "    </tr>\n",
       "    <tr>\n",
       "      <th>32310810</th>\n",
       "      <td>658416</td>\n",
       "      <td>658416</td>\n",
       "      <td>1226705</td>\n",
       "      <td>39667</td>\n",
       "      <td>7</td>\n",
       "      <td>2</td>\n",
       "      <td>15</td>\n",
       "      <td>20.0</td>\n",
       "      <td>33664</td>\n",
       "      <td>14</td>\n",
       "      <td>...</td>\n",
       "      <td>Johnny</td>\n",
       "      <td>Colon</td>\n",
       "      <td>Male</td>\n",
       "      <td>Rhode Island</td>\n",
       "      <td>78</td>\n",
       "      <td>5/8/2019</td>\n",
       "      <td>2</td>\n",
       "      <td>married</td>\n",
       "      <td>195077</td>\n",
       "      <td>both</td>\n",
       "    </tr>\n",
       "    <tr>\n",
       "      <th>32330048</th>\n",
       "      <td>1583942</td>\n",
       "      <td>1583942</td>\n",
       "      <td>3000037</td>\n",
       "      <td>95105</td>\n",
       "      <td>2</td>\n",
       "      <td>4</td>\n",
       "      <td>19</td>\n",
       "      <td>22.0</td>\n",
       "      <td>33664</td>\n",
       "      <td>4</td>\n",
       "      <td>...</td>\n",
       "      <td>Catherine</td>\n",
       "      <td>Browning</td>\n",
       "      <td>Female</td>\n",
       "      <td>South Carolina</td>\n",
       "      <td>48</td>\n",
       "      <td>1/18/2017</td>\n",
       "      <td>2</td>\n",
       "      <td>married</td>\n",
       "      <td>398880</td>\n",
       "      <td>both</td>\n",
       "    </tr>\n",
       "    <tr>\n",
       "      <th>32330049</th>\n",
       "      <td>1583944</td>\n",
       "      <td>1583944</td>\n",
       "      <td>2741225</td>\n",
       "      <td>95105</td>\n",
       "      <td>4</td>\n",
       "      <td>5</td>\n",
       "      <td>12</td>\n",
       "      <td>2.0</td>\n",
       "      <td>33664</td>\n",
       "      <td>3</td>\n",
       "      <td>...</td>\n",
       "      <td>Catherine</td>\n",
       "      <td>Browning</td>\n",
       "      <td>Female</td>\n",
       "      <td>South Carolina</td>\n",
       "      <td>48</td>\n",
       "      <td>1/18/2017</td>\n",
       "      <td>2</td>\n",
       "      <td>married</td>\n",
       "      <td>398880</td>\n",
       "      <td>both</td>\n",
       "    </tr>\n",
       "  </tbody>\n",
       "</table>\n",
       "<p>5127 rows × 37 columns</p>\n",
       "</div>"
      ],
      "text/plain": [
       "          Unnamed: 0_x  Unnamed: 0.1  order_id  user_id  order_number  \\\n",
       "7805             24261         24261   1435153     1519            26   \n",
       "7806             24267         24267   1066435     1519            32   \n",
       "15143            39073         39073   1697208     2409            33   \n",
       "20264            57126         57126    965345     3531            27   \n",
       "20497            61481         61481   2943740     3793             1   \n",
       "...                ...           ...       ...      ...           ...   \n",
       "32303799        854612        854612   3265389    51346             4   \n",
       "32307882       2186800       2186800   1179092   131671            12   \n",
       "32310810        658416        658416   1226705    39667             7   \n",
       "32330048       1583942       1583942   3000037    95105             2   \n",
       "32330049       1583944       1583944   2741225    95105             4   \n",
       "\n",
       "          orders_days_of_the_week  time_of_order_24hr_time  \\\n",
       "7805                            2                       11   \n",
       "7806                            3                       10   \n",
       "15143                           1                       19   \n",
       "20264                           2                       19   \n",
       "20497                           2                        9   \n",
       "...                           ...                      ...   \n",
       "32303799                        1                       17   \n",
       "32307882                        4                        9   \n",
       "32310810                        2                       15   \n",
       "32330048                        4                       19   \n",
       "32330049                        5                       12   \n",
       "\n",
       "          days_since_prior_order  product_id  add_to_cart_order  ...  \\\n",
       "7805                         6.0       21553                 15  ...   \n",
       "7806                         5.0       21553                 28  ...   \n",
       "15143                        5.0       21553                  1  ...   \n",
       "20264                        8.0       33664                  2  ...   \n",
       "20497                        0.0       21553                  3  ...   \n",
       "...                          ...         ...                ...  ...   \n",
       "32303799                    13.0       33664                  2  ...   \n",
       "32307882                    15.0       33664                  1  ...   \n",
       "32310810                    20.0       33664                 14  ...   \n",
       "32330048                    22.0       33664                  4  ...   \n",
       "32330049                     2.0       33664                  3  ...   \n",
       "\n",
       "          First_Name  Last_Name  Gender           STATE  Age  date_joined  \\\n",
       "7805           Craig      Clark    Male    Rhode Island   68     3/4/2020   \n",
       "7806           Craig      Clark    Male    Rhode Island   68     3/4/2020   \n",
       "15143         Nicole   Odonnell  Female          Hawaii   55   11/11/2018   \n",
       "20264          Alice    Compton  Female          Hawaii   80    10/6/2019   \n",
       "20497          Jerry      Allen    Male       Louisiana   59    8/23/2019   \n",
       "...              ...        ...     ...             ...  ...          ...   \n",
       "32303799         NaN      Gould    Male    Rhode Island   58    1/25/2019   \n",
       "32307882       Diana     Hansen  Female    Rhode Island   35     8/4/2018   \n",
       "32310810      Johnny      Colon    Male    Rhode Island   78     5/8/2019   \n",
       "32330048   Catherine   Browning  Female  South Carolina   48    1/18/2017   \n",
       "32330049   Catherine   Browning  Female  South Carolina   48    1/18/2017   \n",
       "\n",
       "         n_dependants        fam_status  income _merge  \n",
       "7805                0  divorced/widowed  177864   both  \n",
       "7806                0  divorced/widowed  177864   both  \n",
       "15143               2           married  230074   both  \n",
       "20264               2           married  233776   both  \n",
       "20497               3           married  182933   both  \n",
       "...               ...               ...     ...    ...  \n",
       "32303799            1           married  207497   both  \n",
       "32307882            0            single   86490   both  \n",
       "32310810            2           married  195077   both  \n",
       "32330048            2           married  398880   both  \n",
       "32330049            2           married  398880   both  \n",
       "\n",
       "[5127 rows x 37 columns]"
      ]
     },
     "execution_count": 8,
     "metadata": {},
     "output_type": "execute_result"
    }
   ],
   "source": [
    "#checking for outliers in the prices column\n",
    "df_final.loc[df_final['prices'] > 100]"
   ]
  },
  {
   "cell_type": "code",
   "execution_count": 9,
   "id": "color-nomination",
   "metadata": {},
   "outputs": [],
   "source": [
    "#Turning outliers into NaNs\n",
    "df_final.loc[df_final['prices'] >100, 'prices'] = np.nan"
   ]
  },
  {
   "cell_type": "code",
   "execution_count": 10,
   "id": "worth-jones",
   "metadata": {},
   "outputs": [
    {
     "data": {
      "text/plain": [
       "25.0"
      ]
     },
     "execution_count": 10,
     "metadata": {},
     "output_type": "execute_result"
    }
   ],
   "source": [
    "#checking the max value\n",
    "df_final['prices'].max()"
   ]
  },
  {
   "cell_type": "code",
   "execution_count": 11,
   "id": "turkish-entrance",
   "metadata": {},
   "outputs": [
    {
     "data": {
      "text/plain": [
       "<AxesSubplot:ylabel='Frequency'>"
      ]
     },
     "execution_count": 11,
     "metadata": {},
     "output_type": "execute_result"
    },
    {
     "data": {
      "image/png": "[encoded data removed]",
      "text/plain": [
       "<Figure size 432x288 with 1 Axes>"
      ]
     },
     "metadata": {
      "needs_background": "light"
     },
     "output_type": "display_data"
    }
   ],
   "source": [
    "#retrying the historgram after data cleaning\n",
    "df_final['prices'].plot.hist(bins = 25)"
   ]
  },
  {
   "cell_type": "code",
   "execution_count": 13,
   "id": "ambient-anderson",
   "metadata": {},
   "outputs": [
    {
     "data": {
      "image/png": "[encoded data removed]",
      "text/plain": [
       "<Figure size 432x288 with 1 Axes>"
      ]
     },
     "metadata": {
      "needs_background": "light"
     },
     "output_type": "display_data"
    }
   ],
   "source": [
    "#saving the histogram and increasing the number of bins\n",
    "hist = df_final['prices'].plot.hist(bins = 70)"
   ]
  },
  {
   "cell_type": "code",
   "execution_count": 14,
   "id": "dramatic-constraint",
   "metadata": {},
   "outputs": [],
   "source": [
    "#saving the histogram\n",
    "hist.figure.savefig(os.path.join(path, '04 Analysis','Visualisations', 'hist_orders_dow.png'))"
   ]
  },
  {
   "cell_type": "markdown",
   "id": "developed-ghana",
   "metadata": {},
   "source": [
    "2b. creating a line chart using a sample from the dataframe"
   ]
  },
  {
   "cell_type": "code",
   "execution_count": 16,
   "id": "yellow-timing",
   "metadata": {},
   "outputs": [],
   "source": [
    "#split the data randomly into two groups: 70/30 split\n",
    "#first, set the seed, a random reproducible pattern\n",
    "np.random.seed(4)"
   ]
  },
  {
   "cell_type": "code",
   "execution_count": 18,
   "id": "interracial-bhutan",
   "metadata": {},
   "outputs": [],
   "source": [
    "#create a new list called dev that will store than boolean values\n",
    "dev = np.random.rand(len(df_final)) <= 0.7"
   ]
  },
  {
   "cell_type": "code",
   "execution_count": 19,
   "id": "cardiac-angola",
   "metadata": {},
   "outputs": [],
   "source": [
    "#store 70% of the sample in the dataframe big\n",
    "big = df_final[dev]"
   ]
  },
  {
   "cell_type": "code",
   "execution_count": 20,
   "id": "north-violence",
   "metadata": {},
   "outputs": [],
   "source": [
    "#store 30% of the sample in the dataframe small\n",
    "small = df_final[~dev]"
   ]
  },
  {
   "cell_type": "code",
   "execution_count": 21,
   "id": "humanitarian-omaha",
   "metadata": {},
   "outputs": [
    {
     "data": {
      "text/plain": [
       "32404859"
      ]
     },
     "execution_count": 21,
     "metadata": {},
     "output_type": "execute_result"
    }
   ],
   "source": [
    "#testing the sizes of the two samples\n",
    "len(df_final)"
   ]
  },
  {
   "cell_type": "code",
   "execution_count": 22,
   "id": "controlled-beast",
   "metadata": {},
   "outputs": [
    {
     "data": {
      "text/plain": [
       "32404859"
      ]
     },
     "execution_count": 22,
     "metadata": {},
     "output_type": "execute_result"
    }
   ],
   "source": [
    "len(big) + len(small)"
   ]
  },
  {
   "cell_type": "code",
   "execution_count": 23,
   "id": "remarkable-electronics",
   "metadata": {},
   "outputs": [],
   "source": [
    "df_2 = small[['orders_days_of_the_week', 'prices']]"
   ]
  },
  {
   "cell_type": "code",
   "execution_count": 24,
   "id": "sharing-affairs",
   "metadata": {},
   "outputs": [
    {
     "data": {
      "image/png": "[encoded data removed]",
      "text/plain": [
       "<Figure size 432x288 with 1 Axes>"
      ]
     },
     "metadata": {
      "needs_background": "light"
     },
     "output_type": "display_data"
    }
   ],
   "source": [
    "#create a line chart with the sample\n",
    "line = sns.lineplot(data = df_2, x = 'orders_days_of_the_week', y = 'prices')"
   ]
  },
  {
   "cell_type": "code",
   "execution_count": 30,
   "id": "indoor-cable",
   "metadata": {},
   "outputs": [],
   "source": [
    "#saving the line chart\n",
    "line.figure.savefig(os.path.join(path, '04 Analysis','Visualisations', 'line_dow.png'))"
   ]
  },
  {
   "cell_type": "markdown",
   "id": "after-sauce",
   "metadata": {},
   "source": [
    "3. Create a histogram to describe sales findings by hours of the day"
   ]
  },
  {
   "cell_type": "code",
   "execution_count": 31,
   "id": "electronic-syntax",
   "metadata": {},
   "outputs": [
    {
     "data": {
      "image/png": "[encoded data removed]",
      "text/plain": [
       "<Figure size 432x288 with 1 Axes>"
      ]
     },
     "metadata": {
      "needs_background": "light"
     },
     "output_type": "display_data"
    }
   ],
   "source": [
    "#make histogram\n",
    "hist_hours = df_final['time_of_order_24hr_time'].plot.hist(bins = 24)"
   ]
  },
  {
   "cell_type": "code",
   "execution_count": 32,
   "id": "agricultural-technician",
   "metadata": {},
   "outputs": [],
   "source": [
    "#save hist_hours\n",
    "hist_hours.figure.savefig(os.path.join(path, '04 Analysis','Visualisations', 'hist_hours.png'))"
   ]
  },
  {
   "cell_type": "markdown",
   "id": "otherwise-fifteen",
   "metadata": {},
   "source": [
    "You can clearly see from the histogram that there are fewer orders in the very early hours, with orders increasing sharply at about 10am. 10-3pm is the peak time period for ordering."
   ]
  },
  {
   "cell_type": "markdown",
   "id": "hispanic-darkness",
   "metadata": {},
   "source": [
    "4. A bar chart that shows the distribution of orders among customers in terms of loyalty, using 'loyalty flag'"
   ]
  },
  {
   "cell_type": "code",
   "execution_count": 37,
   "id": "italic-solomon",
   "metadata": {},
   "outputs": [
    {
     "data": {
      "image/png": "[encoded data removed]",
      "text/plain": [
       "<Figure size 432x288 with 1 Axes>"
      ]
     },
     "metadata": {
      "needs_background": "light"
     },
     "output_type": "display_data"
    }
   ],
   "source": [
    "#create a bar chart from the 'loyalty_flag' column\n",
    "loyalty_bar = df_final['loyalty_flag'].value_counts().plot.bar(color =['purple', 'red', 'pink', 'orange', 'yellow', 'green', 'blue'])"
   ]
  },
  {
   "cell_type": "code",
   "execution_count": 41,
   "id": "composite-quest",
   "metadata": {},
   "outputs": [],
   "source": [
    "#save loaylty_bar\n",
    "loyalty_bar.figure.savefig(os.path.join(path, '04 Analysis','Visualisations', 'loyalty_bar.png'))"
   ]
  },
  {
   "cell_type": "markdown",
   "id": "stone-evidence",
   "metadata": {},
   "source": [
    "5. A line chart that checks differences in expenditure based on the hour of the day"
   ]
  },
  {
   "cell_type": "code",
   "execution_count": 38,
   "id": "outer-illinois",
   "metadata": {},
   "outputs": [],
   "source": [
    "#create a smaller df from a sample of the bigger df\n",
    "df_3 = small[['time_of_order_24hr_time', 'prices']]"
   ]
  },
  {
   "cell_type": "code",
   "execution_count": 40,
   "id": "convinced-indiana",
   "metadata": {},
   "outputs": [
    {
     "data": {
      "image/png": "[encoded data removed]",
      "text/plain": [
       "<Figure size 432x288 with 1 Axes>"
      ]
     },
     "metadata": {
      "needs_background": "light"
     },
     "output_type": "display_data"
    }
   ],
   "source": [
    "#create a line chart\n",
    "line_hours = sns.lineplot(data = df_3, x = 'time_of_order_24hr_time', y = 'prices')"
   ]
  },
  {
   "cell_type": "code",
   "execution_count": 42,
   "id": "simple-chassis",
   "metadata": {},
   "outputs": [],
   "source": [
    "#save line_hours\n",
    "line_hours.figure.savefig(os.path.join(path, '04 Analysis','Visualisations', 'line_hours.png'))"
   ]
  },
  {
   "cell_type": "markdown",
   "id": "opponent-wilderness",
   "metadata": {},
   "source": [
    "You can clearly see that, although the number of orders increases during the middle of the day, the prices of orders purchase is much high during the morning time."
   ]
  },
  {
   "cell_type": "markdown",
   "id": "incomplete-master",
   "metadata": {},
   "source": [
    "6. Exploratory analysis of customer demographics using a line chart"
   ]
  },
  {
   "cell_type": "code",
   "execution_count": 44,
   "id": "convenient-skill",
   "metadata": {},
   "outputs": [],
   "source": [
    "#create a smaller df from a sample of the data\n",
    "df_4 = small[['Age', 'fam_status']]"
   ]
  },
  {
   "cell_type": "code",
   "execution_count": 46,
   "id": "empirical-thumb",
   "metadata": {},
   "outputs": [
    {
     "data": {
      "image/png": "[encoded data removed]",
      "text/plain": [
       "<Figure size 432x288 with 1 Axes>"
      ]
     },
     "metadata": {
      "needs_background": "light"
     },
     "output_type": "display_data"
    }
   ],
   "source": [
    "#create the line chart\n",
    "line_age_fam = sns.lineplot(data = df_4, x = 'fam_status', y = 'Age')"
   ]
  },
  {
   "cell_type": "code",
   "execution_count": 47,
   "id": "wired-office",
   "metadata": {},
   "outputs": [],
   "source": [
    "#saving the line_age_fam line chart\n",
    "line_age_fam.figure.savefig(os.path.join(path, '04 Analysis','Visualisations', 'line_age_fam.png'))"
   ]
  },
  {
   "cell_type": "markdown",
   "id": "twelve-librarian",
   "metadata": {},
   "source": [
    "The line chart shows that customers who are in their 20s are my likely to be living with parents, those in their 30s are more likely to be single, those in their 60s and 70s are more likely to be divorced /widowed, and that the 50s age group are most likely to be married."
   ]
  },
  {
   "cell_type": "markdown",
   "id": "korean-latest",
   "metadata": {},
   "source": [
    "7. Exploring the relationship between age and spending power"
   ]
  },
  {
   "cell_type": "code",
   "execution_count": 49,
   "id": "following-narrative",
   "metadata": {},
   "outputs": [
    {
     "data": {
      "image/png": "[encoded data removed]",
      "text/plain": [
       "<Figure size 432x288 with 1 Axes>"
      ]
     },
     "metadata": {
      "needs_background": "light"
     },
     "output_type": "display_data"
    }
   ],
   "source": [
    "#creating a scatterplot\n",
    "scatter_age_spend = sns.scatterplot(x = 'Age', y = 'mean_spend',data = df_final)"
   ]
  },
  {
   "cell_type": "markdown",
   "id": "discrete-cardiff",
   "metadata": {},
   "source": [
    "This scatterplot shows a normal distribution and no strong relationship between age and the average amount each customer spends"
   ]
  },
  {
   "cell_type": "code",
   "execution_count": 50,
   "id": "dental-miami",
   "metadata": {},
   "outputs": [],
   "source": [
    "#saving the scaterrplot\n",
    "scatter_age_spend.figure.savefig(os.path.join(path, '04 Analysis','Visualisations', 'scatter_age_spend.png'))"
   ]
  },
  {
   "cell_type": "code",
   "execution_count": null,
   "id": "confirmed-buddy",
   "metadata": {},
   "outputs": [],
   "source": []
  }
 ],
 "metadata": {
  "kernelspec": {
   "display_name": "Python 3",
   "language": "python",
   "name": "python3"
  },
  "language_info": {
   "codemirror_mode": {
    "name": "ipython",
    "version": 3
   },
   "file_extension": ".py",
   "mimetype": "text/x-python",
   "name": "python",
   "nbconvert_exporter": "python",
   "pygments_lexer": "ipython3",
   "version": "3.7.9"
  }
 },
 "nbformat": 4,
 "nbformat_minor": 5
}
