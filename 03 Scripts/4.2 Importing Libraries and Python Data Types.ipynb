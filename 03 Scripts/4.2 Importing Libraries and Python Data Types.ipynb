{
 "cells": [
  {
   "cell_type": "markdown",
   "id": "verified-mumbai",
   "metadata": {},
   "source": [
    "# 01. Importing Libraries"
   ]
  },
  {
   "cell_type": "code",
   "execution_count": 1,
   "id": "southeast-march",
   "metadata": {},
   "outputs": [],
   "source": [
    "# Import Libraries\n",
    "import pandas as pd\n",
    "import numpy as np\n",
    "import os"
   ]
  },
  {
   "cell_type": "markdown",
   "id": "simple-trick",
   "metadata": {},
   "source": [
    "# 02. Learning to work with Python data types"
   ]
  },
  {
   "cell_type": "code",
   "execution_count": 12,
   "id": "concerned-sterling",
   "metadata": {},
   "outputs": [
    {
     "data": {
      "text/plain": [
       "100"
      ]
     },
     "execution_count": 12,
     "metadata": {},
     "output_type": "execute_result"
    }
   ],
   "source": [
    "99 + 1"
   ]
  },
  {
   "cell_type": "code",
   "execution_count": 13,
   "id": "extra-approach",
   "metadata": {},
   "outputs": [
    {
     "data": {
      "text/plain": [
       "100"
      ]
     },
     "execution_count": 13,
     "metadata": {},
     "output_type": "execute_result"
    }
   ],
   "source": [
    "25 * 4"
   ]
  },
  {
   "cell_type": "code",
   "execution_count": 15,
   "id": "convinced-grove",
   "metadata": {},
   "outputs": [
    {
     "data": {
      "text/plain": [
       "100"
      ]
     },
     "execution_count": 15,
     "metadata": {},
     "output_type": "execute_result"
    }
   ],
   "source": [
    "500 - 400"
   ]
  },
  {
   "cell_type": "code",
   "execution_count": 16,
   "id": "disturbed-keyboard",
   "metadata": {},
   "outputs": [
    {
     "data": {
      "text/plain": [
       "100.0"
      ]
     },
     "execution_count": 16,
     "metadata": {},
     "output_type": "execute_result"
    }
   ],
   "source": [
    "400 / 4"
   ]
  },
  {
   "cell_type": "code",
   "execution_count": 17,
   "id": "coordinate-tobacco",
   "metadata": {},
   "outputs": [],
   "source": [
    "x = 4.5"
   ]
  },
  {
   "cell_type": "code",
   "execution_count": 18,
   "id": "sustained-thinking",
   "metadata": {},
   "outputs": [],
   "source": [
    "y = 1.2"
   ]
  },
  {
   "cell_type": "code",
   "execution_count": 19,
   "id": "lesser-victorian",
   "metadata": {},
   "outputs": [
    {
     "data": {
      "text/plain": [
       "3.75"
      ]
     },
     "execution_count": 19,
     "metadata": {},
     "output_type": "execute_result"
    }
   ],
   "source": [
    "x / y"
   ]
  },
  {
   "cell_type": "code",
   "execution_count": 20,
   "id": "mexican-consent",
   "metadata": {},
   "outputs": [],
   "source": [
    "q = 'learn'"
   ]
  },
  {
   "cell_type": "code",
   "execution_count": 21,
   "id": "verbal-sociology",
   "metadata": {},
   "outputs": [],
   "source": [
    "u = 'ing'"
   ]
  },
  {
   "cell_type": "code",
   "execution_count": 22,
   "id": "israeli-location",
   "metadata": {},
   "outputs": [
    {
     "data": {
      "text/plain": [
       "'learning'"
      ]
     },
     "execution_count": 22,
     "metadata": {},
     "output_type": "execute_result"
    }
   ],
   "source": [
    "q + u"
   ]
  },
  {
   "cell_type": "code",
   "execution_count": 23,
   "id": "dying-registration",
   "metadata": {},
   "outputs": [],
   "source": [
    "# Bonus Task"
   ]
  },
  {
   "cell_type": "code",
   "execution_count": 26,
   "id": "continent-wages",
   "metadata": {},
   "outputs": [
    {
     "data": {
      "text/plain": [
       "'learninglearninglearninglearninglearninglearninglearninglearninglearninglearninglearninglearninglearninglearninglearninglearninglearninglearninglearninglearninglearninglearninglearninglearninglearninglearninglearninglearninglearninglearninglearninglearninglearninglearninglearninglearninglearninglearninglearninglearninglearninglearninglearninglearninglearninglearninglearninglearninglearninglearninglearninglearninglearninglearninglearninglearninglearninglearninglearninglearninglearninglearninglearninglearninglearninglearninglearninglearninglearninglearninglearninglearninglearninglearninglearninglearninglearninglearninglearninglearninglearninglearninglearninglearninglearninglearninglearninglearninglearninglearninglearninglearninglearninglearninglearninglearninglearninglearninglearninglearning'"
      ]
     },
     "execution_count": 26,
     "metadata": {},
     "output_type": "execute_result"
    }
   ],
   "source": [
    "(q + u) * 100"
   ]
  },
  {
   "cell_type": "code",
   "execution_count": null,
   "id": "gothic-preserve",
   "metadata": {},
   "outputs": [],
   "source": []
  }
 ],
 "metadata": {
  "kernelspec": {
   "display_name": "Python 3",
   "language": "python",
   "name": "python3"
  },
  "language_info": {
   "codemirror_mode": {
    "name": "ipython",
    "version": 3
   },
   "file_extension": ".py",
   "mimetype": "text/x-python",
   "name": "python",
   "nbconvert_exporter": "python",
   "pygments_lexer": "ipython3",
   "version": "3.7.7"
  }
 },
 "nbformat": 4,
 "nbformat_minor": 5
}
